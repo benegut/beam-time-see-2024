{
 "cells": [
  {
   "cell_type": "code",
   "execution_count": 2,
   "id": "c32453b7-99db-4be3-9c4c-abd5845e1875",
   "metadata": {
    "scrolled": true
   },
   "outputs": [],
   "source": [
    "import matplotlib.pyplot as plt\n",
    "import numpy as np\n",
    "import pandas as pd\n",
    "import ipywidgets as widget\n",
    "from IPython.display import display\n",
    "import os\n",
    "import datetime"
   ]
  },
  {
   "cell_type": "code",
   "execution_count": 3,
   "id": "6f182e37-4635-4ed0-ba31-28094ccb180e",
   "metadata": {
    "jupyter": {
     "source_hidden": true
    },
    "scrolled": true
   },
   "outputs": [],
   "source": [
    "def get_dir_all(dir):\n",
    "    tmpArr = []\n",
    "    for root, dirs, files in os.walk(dir,topdown=True):\n",
    "        for name in files:\n",
    "            if name.endswith((\"log\")):\n",
    "                fullPath=os.path.join(root, name)\n",
    "                tmpArr.append(fullPath)\n",
    "    return tmpArr"
   ]
  },
  {
   "cell_type": "code",
   "execution_count": 4,
   "id": "f8ffd9eb-6e0b-4f00-9b9b-3763fbd11e52",
   "metadata": {
    "jupyter": {
     "source_hidden": true
    }
   },
   "outputs": [],
   "source": [
    "def get_df(fileName):\n",
    "    return pd.read_csv(fileName,delimiter='\\t',header=3,names=['Time', 'R/W', 'Register', 'Data', 'F/N'])"
   ]
  },
  {
   "cell_type": "markdown",
   "id": "e97705c3-ccbb-4e63-b418-58faf8d37903",
   "metadata": {
    "editable": true,
    "slideshow": {
     "slide_type": ""
    },
    "tags": []
   },
   "source": [
    "# 12-02-2024\n",
    "## DAC only\n",
    "Masked everything else, exposed only DAC part of MIMOSIS2"
   ]
  },
  {
   "cell_type": "code",
   "execution_count": 5,
   "id": "747d3e1f-46f6-46c3-8ee4-96f7b897c29c",
   "metadata": {},
   "outputs": [
    {
     "data": {
      "application/vnd.jupyter.widget-view+json": {
       "model_id": "bfd5bf528b3b4d9faead3744070f79c4",
       "version_major": 2,
       "version_minor": 0
      },
      "text/plain": [
       "Dropdown(description='Logs:', options=('data/rw-dacs/2024-02-12/single-reg-rw-0x43-20240212-16-59-55.log', 'da…"
      ]
     },
     "metadata": {},
     "output_type": "display_data"
    }
   ],
   "source": [
    "%matplotlib widget\n",
    "dacOnly1Dd = widget.Dropdown(options=get_dir_all(\"data/rw-dacs/2024-02-12/\")\n",
    "                             , description='Logs:')\n",
    "display(dacOnly1Dd)"
   ]
  },
  {
   "cell_type": "code",
   "execution_count": 19,
   "id": "b9bfa1ef-393f-441a-be8a-667f9d04b57b",
   "metadata": {
    "editable": true,
    "slideshow": {
     "slide_type": ""
    },
    "tags": []
   },
   "outputs": [
    {
     "data": {
      "text/plain": [
       "[<matplotlib.lines.Line2D at 0x7543e36c5b10>]"
      ]
     },
     "execution_count": 19,
     "metadata": {},
     "output_type": "execute_result"
    },
    {
     "data": {
      "image/png": "[encoded data removed]",
      "text/plain": [
       "<Figure size 640x480 with 1 Axes>"
      ]
     },
     "metadata": {
      "needs_background": "light"
     },
     "output_type": "display_data"
    }
   ],
   "source": [
    "allFlips = [1 if i == 'F' else 0 for i in dataFrame['F/N'].values]\n",
    "\n",
    "logTimes = dataFrame['Time'].values\n",
    "formatedTimes=[datetime.datetime.strptime(i, '%Y-%m-%d-%H-%M-%S-%f').strftime('%H:%M:%S.%f') for i in logTimes]\n",
    "\n",
    "tickSpace = int(len(formatedTimes)/14)\n",
    "plotTicks = [formatedTimes[i] for i in range(0,len(formatedTimes),tickSpace)]\n",
    "plotTicksInt = [i for i in range(0,len(formatedTimes),tickSpace)]\n",
    "\n",
    "fig, ax = plt.subplots()\n",
    "fig.patch.set_alpha(0.0)\n",
    "ax.patch.set_alpha(0.0)\n",
    "ax.tick_params(axis='x', labelrotation=45, labelsize=10)\n",
    "ax.set_xticks(plotTicksInt, plotTicks)\n",
    "ax.plot(allFlips)"
   ]
  }
 ],
 "metadata": {
  "kernelspec": {
   "display_name": "Python 3 (ipykernel)",
   "language": "python",
   "name": "python3"
  },
  "language_info": {
   "codemirror_mode": {
    "name": "ipython",
    "version": 3
   },
   "file_extension": ".py",
   "mimetype": "text/x-python",
   "name": "python",
   "nbconvert_exporter": "python",
   "pygments_lexer": "ipython3",
   "version": "3.11.7"
  }
 },
 "nbformat": 4,
 "nbformat_minor": 5
}
