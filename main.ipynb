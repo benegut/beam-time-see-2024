{
 "cells": [
  {
   "cell_type": "code",
   "execution_count": 8,
   "id": "4e424648",
   "metadata": {
    "scrolled": true
   },
   "outputs": [],
   "source": [
    "import matplotlib.pyplot as plt\n",
    "import numpy as np\n",
    "import pandas as pd\n",
    "import ipywidgets as widget\n",
    "from IPython.display import display\n",
    "import os\n",
    "import datetime"
   ]
  },
  {
   "cell_type": "code",
   "execution_count": 9,
   "id": "32a35db0",
   "metadata": {
    "scrolled": true
   },
   "outputs": [],
   "source": [
    "def get_dir_all(dir):\n",
    "    tmpArr = []\n",
    "    for root, dirs, files in os.walk(dir,topdown=True):\n",
    "        for name in files:\n",
    "            if name.endswith((\"log\")):\n",
    "                fullPath=os.path.join(root, name)\n",
    "                tmpArr.append(fullPath)\n",
    "    return tmpArr"
   ]
  },
  {
   "cell_type": "code",
   "execution_count": 10,
   "id": "186fe4ed",
   "metadata": {},
   "outputs": [],
   "source": [
    "def get_df(fileName):\n",
    "    return pd.read_csv(fileName,delimiter='\\t',header=3,names=['Time', 'R/W', 'Register', 'Data', 'F/N'])"
   ]
  },
  {
   "cell_type": "markdown",
   "id": "de9824ce",
   "metadata": {
    "slideshow": {
     "slide_type": ""
    },
    "tags": []
   },
   "source": [
    "# 12-02-2024\n",
    "## DAC only\n",
    "Masked everything else, exposed only DAC part of MIMOSIS2"
   ]
  },
  {
   "cell_type": "code",
   "execution_count": 12,
   "id": "3e97e090",
   "metadata": {},
   "outputs": [
    {
     "data": {
      "application/vnd.jupyter.widget-view+json": {
       "model_id": "10ea6633a2c044208ebd54478ec5460f",
       "version_major": 2,
       "version_minor": 0
      },
      "text/plain": [
       "Dropdown(description='Logs:', options=('data/rw-dacs/2024-02-12/single-reg-rw-0x46-20240212-17-02-55.log', 'da…"
      ]
     },
     "metadata": {},
     "output_type": "display_data"
    }
   ],
   "source": [
    "%matplotlib widget\n",
    "dacOnly1Dd = widget.Dropdown(options=get_dir_all(\"data/rw-dacs/2024-02-12/\")\n",
    "                             , description='Logs:')\n",
    "display(dacOnly1Dd)"
   ]
  },
  {
   "cell_type": "code",
   "execution_count": 13,
   "id": "709abd01",
   "metadata": {
    "slideshow": {
     "slide_type": ""
    },
    "tags": []
   },
   "outputs": [
    {
     "ename": "NameError",
     "evalue": "name 'dataFrame' is not defined",
     "output_type": "error",
     "traceback": [
      "\u001b[0;31m---------------------------------------------------------------------------\u001b[0m",
      "\u001b[0;31mNameError\u001b[0m                                 Traceback (most recent call last)",
      "Cell \u001b[0;32mIn[13], line 1\u001b[0m\n\u001b[0;32m----> 1\u001b[0m allFlips \u001b[38;5;241m=\u001b[39m [\u001b[38;5;241m1\u001b[39m \u001b[38;5;28;01mif\u001b[39;00m i \u001b[38;5;241m==\u001b[39m \u001b[38;5;124m'\u001b[39m\u001b[38;5;124mF\u001b[39m\u001b[38;5;124m'\u001b[39m \u001b[38;5;28;01melse\u001b[39;00m \u001b[38;5;241m0\u001b[39m \u001b[38;5;28;01mfor\u001b[39;00m i \u001b[38;5;129;01min\u001b[39;00m \u001b[43mdataFrame\u001b[49m[\u001b[38;5;124m'\u001b[39m\u001b[38;5;124mF/N\u001b[39m\u001b[38;5;124m'\u001b[39m]\u001b[38;5;241m.\u001b[39mvalues]\n\u001b[1;32m      3\u001b[0m logTimes \u001b[38;5;241m=\u001b[39m dataFrame[\u001b[38;5;124m'\u001b[39m\u001b[38;5;124mTime\u001b[39m\u001b[38;5;124m'\u001b[39m]\u001b[38;5;241m.\u001b[39mvalues\n\u001b[1;32m      4\u001b[0m formatedTimes\u001b[38;5;241m=\u001b[39m[datetime\u001b[38;5;241m.\u001b[39mdatetime\u001b[38;5;241m.\u001b[39mstrptime(i, \u001b[38;5;124m'\u001b[39m\u001b[38;5;124m%\u001b[39m\u001b[38;5;124mY-\u001b[39m\u001b[38;5;124m%\u001b[39m\u001b[38;5;124mm-\u001b[39m\u001b[38;5;132;01m%d\u001b[39;00m\u001b[38;5;124m-\u001b[39m\u001b[38;5;124m%\u001b[39m\u001b[38;5;124mH-\u001b[39m\u001b[38;5;124m%\u001b[39m\u001b[38;5;124mM-\u001b[39m\u001b[38;5;124m%\u001b[39m\u001b[38;5;124mS-\u001b[39m\u001b[38;5;132;01m%f\u001b[39;00m\u001b[38;5;124m'\u001b[39m)\u001b[38;5;241m.\u001b[39mstrftime(\u001b[38;5;124m'\u001b[39m\u001b[38;5;124m%\u001b[39m\u001b[38;5;124mH:\u001b[39m\u001b[38;5;124m%\u001b[39m\u001b[38;5;124mM:\u001b[39m\u001b[38;5;124m%\u001b[39m\u001b[38;5;124mS.\u001b[39m\u001b[38;5;132;01m%f\u001b[39;00m\u001b[38;5;124m'\u001b[39m) \u001b[38;5;28;01mfor\u001b[39;00m i \u001b[38;5;129;01min\u001b[39;00m logTimes]\n",
      "\u001b[0;31mNameError\u001b[0m: name 'dataFrame' is not defined"
     ]
    }
   ],
   "source": [
    "allFlips = [1 if i == 'F' else 0 for i in dataFrame['F/N'].values]\n",
    "\n",
    "logTimes = dataFrame['Time'].values\n",
    "formatedTimes=[datetime.datetime.strptime(i, '%Y-%m-%d-%H-%M-%S-%f').strftime('%H:%M:%S.%f') for i in logTimes]\n",
    "\n",
    "tickSpace = int(len(formatedTimes)/14)\n",
    "plotTicks = [formatedTimes[i] for i in range(0,len(formatedTimes),tickSpace)]\n",
    "plotTicksInt = [i for i in range(0,len(formatedTimes),tickSpace)]\n",
    "\n",
    "fig, ax = plt.subplots()\n",
    "fig.patch.set_alpha(0.0)\n",
    "ax.patch.set_alpha(0.0)\n",
    "ax.tick_params(axis='x', labelrotation=45, labelsize=10)\n",
    "ax.set_xticks(plotTicksInt, plotTicks)\n",
    "ax.plot(allFlips)"
   ]
  },
  {
   "cell_type": "code",
   "execution_count": null,
   "id": "5d565c5c",
   "metadata": {},
   "outputs": [],
   "source": []
  }
 ],
 "metadata": {
  "kernelspec": {
   "display_name": "Python 3 (ipykernel)",
   "language": "python",
   "name": "python3"
  },
  "language_info": {
   "codemirror_mode": {
    "name": "ipython",
    "version": 3
   },
   "file_extension": ".py",
   "mimetype": "text/x-python",
   "name": "python",
   "nbconvert_exporter": "python",
   "pygments_lexer": "ipython3",
   "version": "3.11.5"
  }
 },
 "nbformat": 4,
 "nbformat_minor": 5
}
